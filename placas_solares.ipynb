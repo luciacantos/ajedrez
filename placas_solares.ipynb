{
 "cells": [
  {
   "cell_type": "code",
   "execution_count": 58,
   "metadata": {},
   "outputs": [],
   "source": [
    "import pandas as pd\n",
    "import matplotlib.pyplot as plt\n",
    "import numpy as np"
   ]
  },
  {
   "cell_type": "code",
   "execution_count": 59,
   "metadata": {},
   "outputs": [],
   "source": [
    "from matplotlib.pyplot import rcParams\n",
    "\n",
    "rcParams['figure.figsize'] = 15, 10\n",
    "rcParams[\"font.weight\"] = \"bold\"\n",
    "rcParams[\"axes.labelweight\"] = \"bold\"\n",
    "rcParams[\"font.size\"] = 12"
   ]
  },
  {
   "cell_type": "code",
   "execution_count": 60,
   "metadata": {},
   "outputs": [
    {
     "data": {
      "text/html": [
       "<div>\n",
       "<style scoped>\n",
       "    .dataframe tbody tr th:only-of-type {\n",
       "        vertical-align: middle;\n",
       "    }\n",
       "\n",
       "    .dataframe tbody tr th {\n",
       "        vertical-align: top;\n",
       "    }\n",
       "\n",
       "    .dataframe thead th {\n",
       "        text-align: right;\n",
       "    }\n",
       "</style>\n",
       "<table border=\"1\" class=\"dataframe\">\n",
       "  <thead>\n",
       "    <tr style=\"text-align: right;\">\n",
       "      <th></th>\n",
       "      <th>CENTRO</th>\n",
       "      <th>USO</th>\n",
       "      <th>Coordenada-X</th>\n",
       "      <th>Coordenada-Y</th>\n",
       "      <th>Latitud</th>\n",
       "      <th>Longitud</th>\n",
       "      <th>POTENCIA KWP</th>\n",
       "      <th>AÑO</th>\n",
       "      <th>MES</th>\n",
       "      <th>CÁLCULO</th>\n",
       "      <th>ENERGÍA PRODUCIDA KWh</th>\n",
       "    </tr>\n",
       "  </thead>\n",
       "  <tbody>\n",
       "    <tr>\n",
       "      <th>0</th>\n",
       "      <td>MADRID EMPRENDE</td>\n",
       "      <td>administrativo</td>\n",
       "      <td>436689.0</td>\n",
       "      <td>4468938.0</td>\n",
       "      <td>40.368616</td>\n",
       "      <td>-3.74573026512817</td>\n",
       "      <td>10.0</td>\n",
       "      <td>2019</td>\n",
       "      <td>enero</td>\n",
       "      <td>Estimación</td>\n",
       "      <td>1004.400</td>\n",
       "    </tr>\n",
       "    <tr>\n",
       "      <th>1</th>\n",
       "      <td>MARES MADRID</td>\n",
       "      <td>administrativo</td>\n",
       "      <td>443153.0</td>\n",
       "      <td>4471330.0</td>\n",
       "      <td>40.390628</td>\n",
       "      <td>-3.669802</td>\n",
       "      <td>7.0</td>\n",
       "      <td>2019</td>\n",
       "      <td>enero</td>\n",
       "      <td>Estimación</td>\n",
       "      <td>703.080</td>\n",
       "    </tr>\n",
       "    <tr>\n",
       "      <th>2</th>\n",
       "      <td>NAVE BOETTICHER</td>\n",
       "      <td>administrativo</td>\n",
       "      <td>440849.0</td>\n",
       "      <td>4466524.0</td>\n",
       "      <td>40.347177</td>\n",
       "      <td>-3.696499</td>\n",
       "      <td>5.0</td>\n",
       "      <td>2019</td>\n",
       "      <td>enero</td>\n",
       "      <td>Estimación</td>\n",
       "      <td>502.200</td>\n",
       "    </tr>\n",
       "    <tr>\n",
       "      <th>3</th>\n",
       "      <td>AULA DE LA NATURALEZA DEHESA DE LA VILLA</td>\n",
       "      <td>medioambiental</td>\n",
       "      <td>439102.0</td>\n",
       "      <td>4478967.0</td>\n",
       "      <td>40.459141</td>\n",
       "      <td>-3.718270563679260</td>\n",
       "      <td>2.5</td>\n",
       "      <td>2019</td>\n",
       "      <td>enero</td>\n",
       "      <td>Estimación</td>\n",
       "      <td>251.100</td>\n",
       "    </tr>\n",
       "    <tr>\n",
       "      <th>4</th>\n",
       "      <td>VIVERO MUNICIPAL DE ESTUFAS DEL RETIRO</td>\n",
       "      <td>medioambiental</td>\n",
       "      <td>441779.0</td>\n",
       "      <td>4473428.0</td>\n",
       "      <td>40.409435</td>\n",
       "      <td>-3.6861797800993200</td>\n",
       "      <td>5.0</td>\n",
       "      <td>2019</td>\n",
       "      <td>enero</td>\n",
       "      <td>Estimación</td>\n",
       "      <td>502.200</td>\n",
       "    </tr>\n",
       "    <tr>\n",
       "      <th>...</th>\n",
       "      <td>...</td>\n",
       "      <td>...</td>\n",
       "      <td>...</td>\n",
       "      <td>...</td>\n",
       "      <td>...</td>\n",
       "      <td>...</td>\n",
       "      <td>...</td>\n",
       "      <td>...</td>\n",
       "      <td>...</td>\n",
       "      <td>...</td>\n",
       "      <td>...</td>\n",
       "    </tr>\n",
       "    <tr>\n",
       "      <th>4973</th>\n",
       "      <td>OAIC SACRAMENTO AGENCIA TRIBUTARIA</td>\n",
       "      <td>administrativo</td>\n",
       "      <td>439688.2</td>\n",
       "      <td>4474009.8</td>\n",
       "      <td>40.414526</td>\n",
       "      <td>-3.7108752639004567</td>\n",
       "      <td>8.0</td>\n",
       "      <td>2023</td>\n",
       "      <td>marzo</td>\n",
       "      <td>Estimación</td>\n",
       "      <td>1330.272</td>\n",
       "    </tr>\n",
       "    <tr>\n",
       "      <th>4974</th>\n",
       "      <td>BASE SAMUR 4</td>\n",
       "      <td>sanitario</td>\n",
       "      <td>445135.7</td>\n",
       "      <td>4475423.6</td>\n",
       "      <td>40.427640</td>\n",
       "      <td>-3.6467931482127414</td>\n",
       "      <td>2.0</td>\n",
       "      <td>2023</td>\n",
       "      <td>marzo</td>\n",
       "      <td>Estimación</td>\n",
       "      <td>332.568</td>\n",
       "    </tr>\n",
       "    <tr>\n",
       "      <th>4975</th>\n",
       "      <td>Vivero de la Casa de Campo</td>\n",
       "      <td>medioambiental</td>\n",
       "      <td>438625.6</td>\n",
       "      <td>4474696.0</td>\n",
       "      <td>40.420630</td>\n",
       "      <td>-3.723464689280627</td>\n",
       "      <td>NaN</td>\n",
       "      <td>2023</td>\n",
       "      <td>marzo</td>\n",
       "      <td>Medición</td>\n",
       "      <td>681.000</td>\n",
       "    </tr>\n",
       "    <tr>\n",
       "      <th>4976</th>\n",
       "      <td>CMM SAN DIEGO</td>\n",
       "      <td>social</td>\n",
       "      <td>443704.6</td>\n",
       "      <td>4471139.1</td>\n",
       "      <td>40.388947</td>\n",
       "      <td>-3.6630476297262975</td>\n",
       "      <td>10.0</td>\n",
       "      <td>2023</td>\n",
       "      <td>marzo</td>\n",
       "      <td>Estimación</td>\n",
       "      <td>1662.840</td>\n",
       "    </tr>\n",
       "    <tr>\n",
       "      <th>4977</th>\n",
       "      <td>CSS CENTRO DE DÍA Y ALZHEIMER ENSANCHE DE VALL...</td>\n",
       "      <td>social</td>\n",
       "      <td>449246.7</td>\n",
       "      <td>4468156.3</td>\n",
       "      <td>40.362464</td>\n",
       "      <td>-3.597762173364828</td>\n",
       "      <td>8.0</td>\n",
       "      <td>2023</td>\n",
       "      <td>marzo</td>\n",
       "      <td>Estimación</td>\n",
       "      <td>1330.272</td>\n",
       "    </tr>\n",
       "  </tbody>\n",
       "</table>\n",
       "<p>4978 rows × 11 columns</p>\n",
       "</div>"
      ],
      "text/plain": [
       "                                                 CENTRO             USO   \n",
       "0                                       MADRID EMPRENDE  administrativo  \\\n",
       "1                                          MARES MADRID  administrativo   \n",
       "2                                       NAVE BOETTICHER  administrativo   \n",
       "3              AULA DE LA NATURALEZA DEHESA DE LA VILLA  medioambiental   \n",
       "4                VIVERO MUNICIPAL DE ESTUFAS DEL RETIRO  medioambiental   \n",
       "...                                                 ...             ...   \n",
       "4973                 OAIC SACRAMENTO AGENCIA TRIBUTARIA  administrativo   \n",
       "4974                                       BASE SAMUR 4       sanitario   \n",
       "4975                         Vivero de la Casa de Campo  medioambiental   \n",
       "4976                                      CMM SAN DIEGO          social   \n",
       "4977  CSS CENTRO DE DÍA Y ALZHEIMER ENSANCHE DE VALL...          social   \n",
       "\n",
       "      Coordenada-X  Coordenada-Y    Latitud             Longitud   \n",
       "0         436689.0     4468938.0  40.368616    -3.74573026512817  \\\n",
       "1         443153.0     4471330.0  40.390628            -3.669802   \n",
       "2         440849.0     4466524.0  40.347177            -3.696499   \n",
       "3         439102.0     4478967.0  40.459141   -3.718270563679260   \n",
       "4         441779.0     4473428.0  40.409435  -3.6861797800993200   \n",
       "...            ...           ...        ...                  ...   \n",
       "4973      439688.2     4474009.8  40.414526  -3.7108752639004567   \n",
       "4974      445135.7     4475423.6  40.427640  -3.6467931482127414   \n",
       "4975      438625.6     4474696.0  40.420630   -3.723464689280627   \n",
       "4976      443704.6     4471139.1  40.388947  -3.6630476297262975   \n",
       "4977      449246.7     4468156.3  40.362464   -3.597762173364828   \n",
       "\n",
       "      POTENCIA KWP   AÑO    MES     CÁLCULO  ENERGÍA PRODUCIDA KWh  \n",
       "0             10.0  2019  enero  Estimación               1004.400  \n",
       "1              7.0  2019  enero  Estimación                703.080  \n",
       "2              5.0  2019  enero  Estimación                502.200  \n",
       "3              2.5  2019  enero  Estimación                251.100  \n",
       "4              5.0  2019  enero  Estimación                502.200  \n",
       "...            ...   ...    ...         ...                    ...  \n",
       "4973           8.0  2023  marzo  Estimación               1330.272  \n",
       "4974           2.0  2023  marzo  Estimación                332.568  \n",
       "4975           NaN  2023  marzo    Medición                681.000  \n",
       "4976          10.0  2023  marzo  Estimación               1662.840  \n",
       "4977           8.0  2023  marzo  Estimación               1330.272  \n",
       "\n",
       "[4978 rows x 11 columns]"
      ]
     },
     "execution_count": 60,
     "metadata": {},
     "output_type": "execute_result"
    }
   ],
   "source": [
    "df_placas = pd.read_excel('placas_solares.xlsx')\n",
    "\n",
    "df_placas"
   ]
  },
  {
   "cell_type": "code",
   "execution_count": 61,
   "metadata": {},
   "outputs": [
    {
     "data": {
      "text/plain": [
       "CENTRO                   1\n",
       "USO                      1\n",
       "Coordenada-X             1\n",
       "Coordenada-Y             1\n",
       "Latitud                  1\n",
       "Longitud                 1\n",
       "POTENCIA KWP             3\n",
       "AÑO                      0\n",
       "MES                      0\n",
       "CÁLCULO                  0\n",
       "ENERGÍA PRODUCIDA KWh    0\n",
       "dtype: int64"
      ]
     },
     "execution_count": 61,
     "metadata": {},
     "output_type": "execute_result"
    }
   ],
   "source": [
    "df_placas.isna().sum() # Verificando los valores nulos"
   ]
  },
  {
   "cell_type": "code",
   "execution_count": 62,
   "metadata": {},
   "outputs": [
    {
     "name": "stdout",
     "output_type": "stream",
     "text": [
      "<class 'pandas.core.frame.DataFrame'>\n",
      "RangeIndex: 4978 entries, 0 to 4977\n",
      "Data columns (total 11 columns):\n",
      " #   Column                 Non-Null Count  Dtype  \n",
      "---  ------                 --------------  -----  \n",
      " 0   CENTRO                 4977 non-null   object \n",
      " 1   USO                    4977 non-null   object \n",
      " 2   Coordenada-X           4977 non-null   float64\n",
      " 3   Coordenada-Y           4977 non-null   float64\n",
      " 4   Latitud                4977 non-null   float64\n",
      " 5   Longitud               4977 non-null   object \n",
      " 6   POTENCIA KWP           4975 non-null   float64\n",
      " 7   AÑO                    4978 non-null   int64  \n",
      " 8   MES                    4978 non-null   object \n",
      " 9   CÁLCULO                4978 non-null   object \n",
      " 10  ENERGÍA PRODUCIDA KWh  4978 non-null   float64\n",
      "dtypes: float64(5), int64(1), object(5)\n",
      "memory usage: 427.9+ KB\n"
     ]
    }
   ],
   "source": [
    "df_placas.info()"
   ]
  },
  {
   "cell_type": "code",
   "execution_count": 63,
   "metadata": {},
   "outputs": [
    {
     "data": {
      "text/plain": [
       "0       False\n",
       "1       False\n",
       "2       False\n",
       "3       False\n",
       "4       False\n",
       "        ...  \n",
       "4973    False\n",
       "4974    False\n",
       "4975    False\n",
       "4976    False\n",
       "4977    False\n",
       "Name: MES, Length: 4978, dtype: bool"
      ]
     },
     "execution_count": 63,
     "metadata": {},
     "output_type": "execute_result"
    }
   ],
   "source": [
    "df_placas[\"MES\"].isna()"
   ]
  },
  {
   "cell_type": "code",
   "execution_count": 64,
   "metadata": {},
   "outputs": [
    {
     "data": {
      "text/plain": [
       "0"
      ]
     },
     "execution_count": 64,
     "metadata": {},
     "output_type": "execute_result"
    }
   ],
   "source": [
    "df_placas[\"MES\"].isna().sum()"
   ]
  },
  {
   "cell_type": "code",
   "execution_count": 65,
   "metadata": {},
   "outputs": [
    {
     "data": {
      "text/plain": [
       "Series([], Name: MES, dtype: object)"
      ]
     },
     "execution_count": 65,
     "metadata": {},
     "output_type": "execute_result"
    }
   ],
   "source": [
    "df_placas[\"MES\"][df_placas[\"MES\"].isna()]"
   ]
  },
  {
   "cell_type": "code",
   "execution_count": 66,
   "metadata": {},
   "outputs": [
    {
     "data": {
      "text/html": [
       "<div>\n",
       "<style scoped>\n",
       "    .dataframe tbody tr th:only-of-type {\n",
       "        vertical-align: middle;\n",
       "    }\n",
       "\n",
       "    .dataframe tbody tr th {\n",
       "        vertical-align: top;\n",
       "    }\n",
       "\n",
       "    .dataframe thead th {\n",
       "        text-align: right;\n",
       "    }\n",
       "</style>\n",
       "<table border=\"1\" class=\"dataframe\">\n",
       "  <thead>\n",
       "    <tr style=\"text-align: right;\">\n",
       "      <th></th>\n",
       "      <th>CENTRO</th>\n",
       "      <th>USO</th>\n",
       "      <th>AÑO</th>\n",
       "      <th>MES</th>\n",
       "      <th>CÁLCULO</th>\n",
       "    </tr>\n",
       "  </thead>\n",
       "  <tbody>\n",
       "    <tr>\n",
       "      <th>4</th>\n",
       "      <td>VIVERO MUNICIPAL DE ESTUFAS DEL RETIRO</td>\n",
       "      <td>medioambiental</td>\n",
       "      <td>2019</td>\n",
       "      <td>enero</td>\n",
       "      <td>Estimación</td>\n",
       "    </tr>\n",
       "    <tr>\n",
       "      <th>5</th>\n",
       "      <td>VIVERO MUNICIPAL DE MIGAS CALIENTES</td>\n",
       "      <td>medioambiental</td>\n",
       "      <td>2019</td>\n",
       "      <td>enero</td>\n",
       "      <td>Estimación</td>\n",
       "    </tr>\n",
       "    <tr>\n",
       "      <th>6</th>\n",
       "      <td>ROSALEDA DEL PARQUE DEL OESTE</td>\n",
       "      <td>medioambiental</td>\n",
       "      <td>2019</td>\n",
       "      <td>enero</td>\n",
       "      <td>Estimación</td>\n",
       "    </tr>\n",
       "    <tr>\n",
       "      <th>7</th>\n",
       "      <td>UID VILLA DE VALLECAS</td>\n",
       "      <td>seguridad</td>\n",
       "      <td>2019</td>\n",
       "      <td>enero</td>\n",
       "      <td>Estimación</td>\n",
       "    </tr>\n",
       "    <tr>\n",
       "      <th>8</th>\n",
       "      <td>BASE 14 SAMUR</td>\n",
       "      <td>sanitario</td>\n",
       "      <td>2019</td>\n",
       "      <td>enero</td>\n",
       "      <td>Estimación</td>\n",
       "    </tr>\n",
       "    <tr>\n",
       "      <th>...</th>\n",
       "      <td>...</td>\n",
       "      <td>...</td>\n",
       "      <td>...</td>\n",
       "      <td>...</td>\n",
       "      <td>...</td>\n",
       "    </tr>\n",
       "    <tr>\n",
       "      <th>3295</th>\n",
       "      <td>UID VILLA DE VALLECAS</td>\n",
       "      <td>seguridad</td>\n",
       "      <td>2022</td>\n",
       "      <td>enero</td>\n",
       "      <td>Estimación</td>\n",
       "    </tr>\n",
       "    <tr>\n",
       "      <th>3296</th>\n",
       "      <td>BASE 14 SAMUR</td>\n",
       "      <td>sanitario</td>\n",
       "      <td>2022</td>\n",
       "      <td>enero</td>\n",
       "      <td>Estimación</td>\n",
       "    </tr>\n",
       "    <tr>\n",
       "      <th>3297</th>\n",
       "      <td>CENTRO PROTECCIÓN ANIMAL</td>\n",
       "      <td>sanitario</td>\n",
       "      <td>2022</td>\n",
       "      <td>enero</td>\n",
       "      <td>Estimación</td>\n",
       "    </tr>\n",
       "    <tr>\n",
       "      <th>3298</th>\n",
       "      <td>PARQUE BOMBEROS Nº 6</td>\n",
       "      <td>seguridad</td>\n",
       "      <td>2022</td>\n",
       "      <td>enero</td>\n",
       "      <td>Estimación</td>\n",
       "    </tr>\n",
       "    <tr>\n",
       "      <th>3299</th>\n",
       "      <td>PARQUE DE BOMBEROS Nº 7</td>\n",
       "      <td>seguridad</td>\n",
       "      <td>2022</td>\n",
       "      <td>enero</td>\n",
       "      <td>Estimación</td>\n",
       "    </tr>\n",
       "  </tbody>\n",
       "</table>\n",
       "<p>3296 rows × 5 columns</p>\n",
       "</div>"
      ],
      "text/plain": [
       "                                      CENTRO             USO   AÑO    MES   \n",
       "4     VIVERO MUNICIPAL DE ESTUFAS DEL RETIRO  medioambiental  2019  enero  \\\n",
       "5        VIVERO MUNICIPAL DE MIGAS CALIENTES  medioambiental  2019  enero   \n",
       "6              ROSALEDA DEL PARQUE DEL OESTE  medioambiental  2019  enero   \n",
       "7                      UID VILLA DE VALLECAS       seguridad  2019  enero   \n",
       "8                              BASE 14 SAMUR       sanitario  2019  enero   \n",
       "...                                      ...             ...   ...    ...   \n",
       "3295                   UID VILLA DE VALLECAS       seguridad  2022  enero   \n",
       "3296                           BASE 14 SAMUR       sanitario  2022  enero   \n",
       "3297                CENTRO PROTECCIÓN ANIMAL       sanitario  2022  enero   \n",
       "3298                    PARQUE BOMBEROS Nº 6       seguridad  2022  enero   \n",
       "3299                 PARQUE DE BOMBEROS Nº 7       seguridad  2022  enero   \n",
       "\n",
       "         CÁLCULO  \n",
       "4     Estimación  \n",
       "5     Estimación  \n",
       "6     Estimación  \n",
       "7     Estimación  \n",
       "8     Estimación  \n",
       "...          ...  \n",
       "3295  Estimación  \n",
       "3296  Estimación  \n",
       "3297  Estimación  \n",
       "3298  Estimación  \n",
       "3299  Estimación  \n",
       "\n",
       "[3296 rows x 5 columns]"
      ]
     },
     "execution_count": 66,
     "metadata": {},
     "output_type": "execute_result"
    }
   ],
   "source": [
    "df_placas[4:3300][[\"CENTRO\", \"USO\", \"AÑO\", \"MES\",\"CÁLCULO\"]]"
   ]
  },
  {
   "cell_type": "code",
   "execution_count": 67,
   "metadata": {},
   "outputs": [
    {
     "data": {
      "text/html": [
       "<div>\n",
       "<style scoped>\n",
       "    .dataframe tbody tr th:only-of-type {\n",
       "        vertical-align: middle;\n",
       "    }\n",
       "\n",
       "    .dataframe tbody tr th {\n",
       "        vertical-align: top;\n",
       "    }\n",
       "\n",
       "    .dataframe thead th {\n",
       "        text-align: right;\n",
       "    }\n",
       "</style>\n",
       "<table border=\"1\" class=\"dataframe\">\n",
       "  <thead>\n",
       "    <tr style=\"text-align: right;\">\n",
       "      <th></th>\n",
       "      <th>CENTRO</th>\n",
       "      <th>USO</th>\n",
       "      <th>Coordenada-X</th>\n",
       "      <th>Coordenada-Y</th>\n",
       "      <th>Latitud</th>\n",
       "      <th>Longitud</th>\n",
       "      <th>POTENCIA KWP</th>\n",
       "      <th>AÑO</th>\n",
       "      <th>MES</th>\n",
       "      <th>CÁLCULO</th>\n",
       "      <th>ENERGÍA PRODUCIDA KWh</th>\n",
       "    </tr>\n",
       "  </thead>\n",
       "  <tbody>\n",
       "    <tr>\n",
       "      <th>3076</th>\n",
       "      <td>NaN</td>\n",
       "      <td>NaN</td>\n",
       "      <td>NaN</td>\n",
       "      <td>NaN</td>\n",
       "      <td>NaN</td>\n",
       "      <td>NaN</td>\n",
       "      <td>7.0</td>\n",
       "      <td>2021</td>\n",
       "      <td>noviembre</td>\n",
       "      <td>Estimación</td>\n",
       "      <td>748.44</td>\n",
       "    </tr>\n",
       "    <tr>\n",
       "      <th>4727</th>\n",
       "      <td>Vivero de la Casa de Campo</td>\n",
       "      <td>medioambiental</td>\n",
       "      <td>438625.6</td>\n",
       "      <td>4474696.0</td>\n",
       "      <td>40.42063</td>\n",
       "      <td>-3.723464689280627</td>\n",
       "      <td>NaN</td>\n",
       "      <td>2023</td>\n",
       "      <td>enero</td>\n",
       "      <td>Medición</td>\n",
       "      <td>345.00</td>\n",
       "    </tr>\n",
       "    <tr>\n",
       "      <th>4850</th>\n",
       "      <td>Vivero de la Casa de Campo</td>\n",
       "      <td>medioambiental</td>\n",
       "      <td>438625.6</td>\n",
       "      <td>4474696.0</td>\n",
       "      <td>40.42063</td>\n",
       "      <td>-3.723464689280627</td>\n",
       "      <td>NaN</td>\n",
       "      <td>2023</td>\n",
       "      <td>febrero</td>\n",
       "      <td>Medición</td>\n",
       "      <td>448.00</td>\n",
       "    </tr>\n",
       "    <tr>\n",
       "      <th>4975</th>\n",
       "      <td>Vivero de la Casa de Campo</td>\n",
       "      <td>medioambiental</td>\n",
       "      <td>438625.6</td>\n",
       "      <td>4474696.0</td>\n",
       "      <td>40.42063</td>\n",
       "      <td>-3.723464689280627</td>\n",
       "      <td>NaN</td>\n",
       "      <td>2023</td>\n",
       "      <td>marzo</td>\n",
       "      <td>Medición</td>\n",
       "      <td>681.00</td>\n",
       "    </tr>\n",
       "  </tbody>\n",
       "</table>\n",
       "</div>"
      ],
      "text/plain": [
       "                          CENTRO             USO  Coordenada-X  Coordenada-Y   \n",
       "3076                         NaN             NaN           NaN           NaN  \\\n",
       "4727  Vivero de la Casa de Campo  medioambiental      438625.6     4474696.0   \n",
       "4850  Vivero de la Casa de Campo  medioambiental      438625.6     4474696.0   \n",
       "4975  Vivero de la Casa de Campo  medioambiental      438625.6     4474696.0   \n",
       "\n",
       "       Latitud            Longitud  POTENCIA KWP   AÑO        MES     CÁLCULO   \n",
       "3076       NaN                 NaN           7.0  2021  noviembre  Estimación  \\\n",
       "4727  40.42063  -3.723464689280627           NaN  2023      enero    Medición   \n",
       "4850  40.42063  -3.723464689280627           NaN  2023    febrero    Medición   \n",
       "4975  40.42063  -3.723464689280627           NaN  2023      marzo    Medición   \n",
       "\n",
       "      ENERGÍA PRODUCIDA KWh  \n",
       "3076                 748.44  \n",
       "4727                 345.00  \n",
       "4850                 448.00  \n",
       "4975                 681.00  "
      ]
     },
     "execution_count": 67,
     "metadata": {},
     "output_type": "execute_result"
    }
   ],
   "source": [
    "df_placas.drop(df_placas.dropna().index)"
   ]
  },
  {
   "cell_type": "code",
   "execution_count": 68,
   "metadata": {},
   "outputs": [
    {
     "data": {
      "text/plain": [
       "4973"
      ]
     },
     "execution_count": 68,
     "metadata": {},
     "output_type": "execute_result"
    }
   ],
   "source": [
    "\n",
    "df_placas.shape[0] - 5"
   ]
  },
  {
   "cell_type": "code",
   "execution_count": 69,
   "metadata": {},
   "outputs": [
    {
     "data": {
      "text/html": [
       "<div>\n",
       "<style scoped>\n",
       "    .dataframe tbody tr th:only-of-type {\n",
       "        vertical-align: middle;\n",
       "    }\n",
       "\n",
       "    .dataframe tbody tr th {\n",
       "        vertical-align: top;\n",
       "    }\n",
       "\n",
       "    .dataframe thead th {\n",
       "        text-align: right;\n",
       "    }\n",
       "</style>\n",
       "<table border=\"1\" class=\"dataframe\">\n",
       "  <thead>\n",
       "    <tr style=\"text-align: right;\">\n",
       "      <th></th>\n",
       "      <th>CENTRO</th>\n",
       "      <th>USO</th>\n",
       "      <th>Coordenada-X</th>\n",
       "      <th>Coordenada-Y</th>\n",
       "      <th>Latitud</th>\n",
       "      <th>Longitud</th>\n",
       "      <th>POTENCIA KWP</th>\n",
       "      <th>AÑO</th>\n",
       "      <th>MES</th>\n",
       "      <th>CÁLCULO</th>\n",
       "      <th>ENERGÍA PRODUCIDA KWh</th>\n",
       "    </tr>\n",
       "  </thead>\n",
       "  <tbody>\n",
       "    <tr>\n",
       "      <th>0</th>\n",
       "      <td>MADRID EMPRENDE</td>\n",
       "      <td>administrativo</td>\n",
       "      <td>436689.0</td>\n",
       "      <td>4468938.0</td>\n",
       "      <td>40.368616</td>\n",
       "      <td>-3.74573026512817</td>\n",
       "      <td>10.0</td>\n",
       "      <td>2019</td>\n",
       "      <td>enero</td>\n",
       "      <td>Estimación</td>\n",
       "      <td>1004.400000</td>\n",
       "    </tr>\n",
       "    <tr>\n",
       "      <th>1</th>\n",
       "      <td>MARES MADRID</td>\n",
       "      <td>administrativo</td>\n",
       "      <td>443153.0</td>\n",
       "      <td>4471330.0</td>\n",
       "      <td>40.390628</td>\n",
       "      <td>-3.669802</td>\n",
       "      <td>7.0</td>\n",
       "      <td>2019</td>\n",
       "      <td>enero</td>\n",
       "      <td>Estimación</td>\n",
       "      <td>703.080000</td>\n",
       "    </tr>\n",
       "    <tr>\n",
       "      <th>2</th>\n",
       "      <td>NAVE BOETTICHER</td>\n",
       "      <td>administrativo</td>\n",
       "      <td>440849.0</td>\n",
       "      <td>4466524.0</td>\n",
       "      <td>40.347177</td>\n",
       "      <td>-3.696499</td>\n",
       "      <td>5.0</td>\n",
       "      <td>2019</td>\n",
       "      <td>enero</td>\n",
       "      <td>Estimación</td>\n",
       "      <td>502.200000</td>\n",
       "    </tr>\n",
       "    <tr>\n",
       "      <th>3</th>\n",
       "      <td>AULA DE LA NATURALEZA DEHESA DE LA VILLA</td>\n",
       "      <td>medioambiental</td>\n",
       "      <td>439102.0</td>\n",
       "      <td>4478967.0</td>\n",
       "      <td>40.459141</td>\n",
       "      <td>-3.718270563679260</td>\n",
       "      <td>2.5</td>\n",
       "      <td>2019</td>\n",
       "      <td>enero</td>\n",
       "      <td>Estimación</td>\n",
       "      <td>251.100000</td>\n",
       "    </tr>\n",
       "    <tr>\n",
       "      <th>4</th>\n",
       "      <td>VIVERO MUNICIPAL DE ESTUFAS DEL RETIRO</td>\n",
       "      <td>medioambiental</td>\n",
       "      <td>441779.0</td>\n",
       "      <td>4473428.0</td>\n",
       "      <td>40.409435</td>\n",
       "      <td>-3.6861797800993200</td>\n",
       "      <td>5.0</td>\n",
       "      <td>2019</td>\n",
       "      <td>enero</td>\n",
       "      <td>Estimación</td>\n",
       "      <td>502.200000</td>\n",
       "    </tr>\n",
       "    <tr>\n",
       "      <th>...</th>\n",
       "      <td>...</td>\n",
       "      <td>...</td>\n",
       "      <td>...</td>\n",
       "      <td>...</td>\n",
       "      <td>...</td>\n",
       "      <td>...</td>\n",
       "      <td>...</td>\n",
       "      <td>...</td>\n",
       "      <td>...</td>\n",
       "      <td>...</td>\n",
       "      <td>...</td>\n",
       "    </tr>\n",
       "    <tr>\n",
       "      <th>4969</th>\n",
       "      <td>CDM HORTALEZA</td>\n",
       "      <td>deportivo</td>\n",
       "      <td>444781.7</td>\n",
       "      <td>4481144.5</td>\n",
       "      <td>40.479153</td>\n",
       "      <td>-3.6514634536929598</td>\n",
       "      <td>99.4</td>\n",
       "      <td>2023</td>\n",
       "      <td>marzo</td>\n",
       "      <td>Medición</td>\n",
       "      <td>11249.600586</td>\n",
       "    </tr>\n",
       "    <tr>\n",
       "      <th>4970</th>\n",
       "      <td>OAIC SACRAMENTO AGENCIA TRIBUTARIA</td>\n",
       "      <td>administrativo</td>\n",
       "      <td>439688.2</td>\n",
       "      <td>4474009.8</td>\n",
       "      <td>40.414526</td>\n",
       "      <td>-3.7108752639004567</td>\n",
       "      <td>8.0</td>\n",
       "      <td>2023</td>\n",
       "      <td>marzo</td>\n",
       "      <td>Estimación</td>\n",
       "      <td>1330.272000</td>\n",
       "    </tr>\n",
       "    <tr>\n",
       "      <th>4971</th>\n",
       "      <td>BASE SAMUR 4</td>\n",
       "      <td>sanitario</td>\n",
       "      <td>445135.7</td>\n",
       "      <td>4475423.6</td>\n",
       "      <td>40.427640</td>\n",
       "      <td>-3.6467931482127414</td>\n",
       "      <td>2.0</td>\n",
       "      <td>2023</td>\n",
       "      <td>marzo</td>\n",
       "      <td>Estimación</td>\n",
       "      <td>332.568000</td>\n",
       "    </tr>\n",
       "    <tr>\n",
       "      <th>4972</th>\n",
       "      <td>CMM SAN DIEGO</td>\n",
       "      <td>social</td>\n",
       "      <td>443704.6</td>\n",
       "      <td>4471139.1</td>\n",
       "      <td>40.388947</td>\n",
       "      <td>-3.6630476297262975</td>\n",
       "      <td>10.0</td>\n",
       "      <td>2023</td>\n",
       "      <td>marzo</td>\n",
       "      <td>Estimación</td>\n",
       "      <td>1662.840000</td>\n",
       "    </tr>\n",
       "    <tr>\n",
       "      <th>4973</th>\n",
       "      <td>CSS CENTRO DE DÍA Y ALZHEIMER ENSANCHE DE VALL...</td>\n",
       "      <td>social</td>\n",
       "      <td>449246.7</td>\n",
       "      <td>4468156.3</td>\n",
       "      <td>40.362464</td>\n",
       "      <td>-3.597762173364828</td>\n",
       "      <td>8.0</td>\n",
       "      <td>2023</td>\n",
       "      <td>marzo</td>\n",
       "      <td>Estimación</td>\n",
       "      <td>1330.272000</td>\n",
       "    </tr>\n",
       "  </tbody>\n",
       "</table>\n",
       "<p>4974 rows × 11 columns</p>\n",
       "</div>"
      ],
      "text/plain": [
       "                                                 CENTRO             USO   \n",
       "0                                       MADRID EMPRENDE  administrativo  \\\n",
       "1                                          MARES MADRID  administrativo   \n",
       "2                                       NAVE BOETTICHER  administrativo   \n",
       "3              AULA DE LA NATURALEZA DEHESA DE LA VILLA  medioambiental   \n",
       "4                VIVERO MUNICIPAL DE ESTUFAS DEL RETIRO  medioambiental   \n",
       "...                                                 ...             ...   \n",
       "4969                                      CDM HORTALEZA       deportivo   \n",
       "4970                 OAIC SACRAMENTO AGENCIA TRIBUTARIA  administrativo   \n",
       "4971                                       BASE SAMUR 4       sanitario   \n",
       "4972                                      CMM SAN DIEGO          social   \n",
       "4973  CSS CENTRO DE DÍA Y ALZHEIMER ENSANCHE DE VALL...          social   \n",
       "\n",
       "      Coordenada-X  Coordenada-Y    Latitud             Longitud   \n",
       "0         436689.0     4468938.0  40.368616    -3.74573026512817  \\\n",
       "1         443153.0     4471330.0  40.390628            -3.669802   \n",
       "2         440849.0     4466524.0  40.347177            -3.696499   \n",
       "3         439102.0     4478967.0  40.459141   -3.718270563679260   \n",
       "4         441779.0     4473428.0  40.409435  -3.6861797800993200   \n",
       "...            ...           ...        ...                  ...   \n",
       "4969      444781.7     4481144.5  40.479153  -3.6514634536929598   \n",
       "4970      439688.2     4474009.8  40.414526  -3.7108752639004567   \n",
       "4971      445135.7     4475423.6  40.427640  -3.6467931482127414   \n",
       "4972      443704.6     4471139.1  40.388947  -3.6630476297262975   \n",
       "4973      449246.7     4468156.3  40.362464   -3.597762173364828   \n",
       "\n",
       "      POTENCIA KWP   AÑO    MES     CÁLCULO  ENERGÍA PRODUCIDA KWh  \n",
       "0             10.0  2019  enero  Estimación            1004.400000  \n",
       "1              7.0  2019  enero  Estimación             703.080000  \n",
       "2              5.0  2019  enero  Estimación             502.200000  \n",
       "3              2.5  2019  enero  Estimación             251.100000  \n",
       "4              5.0  2019  enero  Estimación             502.200000  \n",
       "...            ...   ...    ...         ...                    ...  \n",
       "4969          99.4  2023  marzo    Medición           11249.600586  \n",
       "4970           8.0  2023  marzo  Estimación            1330.272000  \n",
       "4971           2.0  2023  marzo  Estimación             332.568000  \n",
       "4972          10.0  2023  marzo  Estimación            1662.840000  \n",
       "4973           8.0  2023  marzo  Estimación            1330.272000  \n",
       "\n",
       "[4974 rows x 11 columns]"
      ]
     },
     "execution_count": 69,
     "metadata": {},
     "output_type": "execute_result"
    }
   ],
   "source": [
    "df_solar_filt = df_placas.dropna().reset_index(drop=True)\n",
    "df_solar_filt"
   ]
  },
  {
   "attachments": {},
   "cell_type": "markdown",
   "metadata": {},
   "source": [
    "### Análisis exploratorio, tratamiento y limpieza de datos\n"
   ]
  },
  {
   "cell_type": "code",
   "execution_count": 70,
   "metadata": {},
   "outputs": [
    {
     "data": {
      "text/html": [
       "<div>\n",
       "<style scoped>\n",
       "    .dataframe tbody tr th:only-of-type {\n",
       "        vertical-align: middle;\n",
       "    }\n",
       "\n",
       "    .dataframe tbody tr th {\n",
       "        vertical-align: top;\n",
       "    }\n",
       "\n",
       "    .dataframe thead th {\n",
       "        text-align: right;\n",
       "    }\n",
       "</style>\n",
       "<table border=\"1\" class=\"dataframe\">\n",
       "  <thead>\n",
       "    <tr style=\"text-align: right;\">\n",
       "      <th></th>\n",
       "      <th>Coordenada-X</th>\n",
       "      <th>Coordenada-Y</th>\n",
       "      <th>Latitud</th>\n",
       "      <th>POTENCIA KWP</th>\n",
       "      <th>AÑO</th>\n",
       "      <th>ENERGÍA PRODUCIDA KWh</th>\n",
       "    </tr>\n",
       "  </thead>\n",
       "  <tbody>\n",
       "    <tr>\n",
       "      <th>count</th>\n",
       "      <td>4974.000000</td>\n",
       "      <td>4.974000e+03</td>\n",
       "      <td>4974.000000</td>\n",
       "      <td>4974.000000</td>\n",
       "      <td>4974.000000</td>\n",
       "      <td>4974.000000</td>\n",
       "    </tr>\n",
       "    <tr>\n",
       "      <th>mean</th>\n",
       "      <td>442288.822698</td>\n",
       "      <td>4.473026e+06</td>\n",
       "      <td>40.405668</td>\n",
       "      <td>16.767740</td>\n",
       "      <td>2020.822477</td>\n",
       "      <td>2289.351661</td>\n",
       "    </tr>\n",
       "    <tr>\n",
       "      <th>std</th>\n",
       "      <td>7463.014880</td>\n",
       "      <td>6.360208e+04</td>\n",
       "      <td>0.574529</td>\n",
       "      <td>16.312776</td>\n",
       "      <td>1.221024</td>\n",
       "      <td>2417.797171</td>\n",
       "    </tr>\n",
       "    <tr>\n",
       "      <th>min</th>\n",
       "      <td>0.000000</td>\n",
       "      <td>0.000000e+00</td>\n",
       "      <td>0.000000</td>\n",
       "      <td>2.000000</td>\n",
       "      <td>2019.000000</td>\n",
       "      <td>-13.200000</td>\n",
       "    </tr>\n",
       "    <tr>\n",
       "      <th>25%</th>\n",
       "      <td>439603.000000</td>\n",
       "      <td>4.470233e+06</td>\n",
       "      <td>40.379399</td>\n",
       "      <td>7.000000</td>\n",
       "      <td>2020.000000</td>\n",
       "      <td>885.600000</td>\n",
       "    </tr>\n",
       "    <tr>\n",
       "      <th>50%</th>\n",
       "      <td>442243.000000</td>\n",
       "      <td>4.473366e+06</td>\n",
       "      <td>40.409341</td>\n",
       "      <td>12.000000</td>\n",
       "      <td>2021.000000</td>\n",
       "      <td>1506.111750</td>\n",
       "    </tr>\n",
       "    <tr>\n",
       "      <th>75%</th>\n",
       "      <td>445584.000000</td>\n",
       "      <td>4.476508e+06</td>\n",
       "      <td>40.436863</td>\n",
       "      <td>20.000000</td>\n",
       "      <td>2022.000000</td>\n",
       "      <td>2853.687500</td>\n",
       "    </tr>\n",
       "    <tr>\n",
       "      <th>max</th>\n",
       "      <td>451431.000000</td>\n",
       "      <td>4.484225e+06</td>\n",
       "      <td>40.506657</td>\n",
       "      <td>100.000000</td>\n",
       "      <td>2023.000000</td>\n",
       "      <td>23800.000000</td>\n",
       "    </tr>\n",
       "  </tbody>\n",
       "</table>\n",
       "</div>"
      ],
      "text/plain": [
       "        Coordenada-X  Coordenada-Y      Latitud  POTENCIA KWP          AÑO   \n",
       "count    4974.000000  4.974000e+03  4974.000000   4974.000000  4974.000000  \\\n",
       "mean   442288.822698  4.473026e+06    40.405668     16.767740  2020.822477   \n",
       "std      7463.014880  6.360208e+04     0.574529     16.312776     1.221024   \n",
       "min         0.000000  0.000000e+00     0.000000      2.000000  2019.000000   \n",
       "25%    439603.000000  4.470233e+06    40.379399      7.000000  2020.000000   \n",
       "50%    442243.000000  4.473366e+06    40.409341     12.000000  2021.000000   \n",
       "75%    445584.000000  4.476508e+06    40.436863     20.000000  2022.000000   \n",
       "max    451431.000000  4.484225e+06    40.506657    100.000000  2023.000000   \n",
       "\n",
       "       ENERGÍA PRODUCIDA KWh  \n",
       "count            4974.000000  \n",
       "mean             2289.351661  \n",
       "std              2417.797171  \n",
       "min               -13.200000  \n",
       "25%               885.600000  \n",
       "50%              1506.111750  \n",
       "75%              2853.687500  \n",
       "max             23800.000000  "
      ]
     },
     "execution_count": 70,
     "metadata": {},
     "output_type": "execute_result"
    }
   ],
   "source": [
    "df_solar_filt.describe()"
   ]
  },
  {
   "cell_type": "code",
   "execution_count": 71,
   "metadata": {},
   "outputs": [
    {
     "data": {
      "text/plain": [
       "CENTRO                    object\n",
       "USO                       object\n",
       "Coordenada-X             float64\n",
       "Coordenada-Y             float64\n",
       "Latitud                  float64\n",
       "Longitud                  object\n",
       "POTENCIA KWP             float64\n",
       "AÑO                        int64\n",
       "MES                       object\n",
       "CÁLCULO                   object\n",
       "ENERGÍA PRODUCIDA KWh    float64\n",
       "dtype: object"
      ]
     },
     "execution_count": 71,
     "metadata": {},
     "output_type": "execute_result"
    }
   ],
   "source": [
    "# consultar el tipo de datos\n",
    "df_solar_filt.dtypes"
   ]
  },
  {
   "cell_type": "code",
   "execution_count": 72,
   "metadata": {},
   "outputs": [
    {
     "data": {
      "text/plain": [
       "CENTRO      object\n",
       "USO         object\n",
       "Longitud    object\n",
       "MES         object\n",
       "CÁLCULO     object\n",
       "dtype: object"
      ]
     },
     "execution_count": 72,
     "metadata": {},
     "output_type": "execute_result"
    }
   ],
   "source": [
    "df_solar_filt.dtypes[df_solar_filt.dtypes == \"object\"]"
   ]
  },
  {
   "cell_type": "code",
   "execution_count": 73,
   "metadata": {},
   "outputs": [
    {
     "data": {
      "text/plain": [
       "CENTRO\n",
       "MADRID EMPRENDE                                       51\n",
       "CENTRO DE ACOGIDA MUNICIPAL PUERTA ABIERTA            51\n",
       "CC EDUARDO CHILLIDA Y BIBLIOTECA MIGUEL DELIBES       51\n",
       "EI SABINA (MORATALAZ)                                 51\n",
       "CMM/CENTRO DIA/CSS LA GUINDALERA                      51\n",
       "                                                      ..\n",
       "CDM ENTREVIAS                                          3\n",
       "BASE SAMUR 4                                           3\n",
       "CMM SAN DIEGO                                          2\n",
       "CSS CENTRO DE DÍA Y ALZHEIMER ENSANCHE DE VALLECAS     2\n",
       "0                                                      1\n",
       "Name: count, Length: 138, dtype: int64"
      ]
     },
     "execution_count": 73,
     "metadata": {},
     "output_type": "execute_result"
    }
   ],
   "source": [
    "\n",
    "df_solar_filt['CENTRO'].value_counts()"
   ]
  },
  {
   "cell_type": "code",
   "execution_count": 74,
   "metadata": {},
   "outputs": [
    {
     "data": {
      "text/plain": [
       "USO\n",
       "cultural          1028\n",
       "social             865\n",
       "deportivo          829\n",
       "educativo          784\n",
       "administrativo     542\n",
       "mixto              291\n",
       "seguridad          266\n",
       "medioambiental     204\n",
       "sanitario          116\n",
       "almacén             39\n",
       "deportivo            9\n",
       "0                    1\n",
       "Name: count, dtype: int64"
      ]
     },
     "execution_count": 74,
     "metadata": {},
     "output_type": "execute_result"
    }
   ],
   "source": [
    "df_solar_filt['USO'].value_counts()"
   ]
  },
  {
   "cell_type": "code",
   "execution_count": 75,
   "metadata": {},
   "outputs": [],
   "source": [
    "# columnas a eliminar por ser informativas\n",
    "columnas_drop = [\"CENTRO\", \"USO\", \"AÑO\", \"MES\", \"CÁLCULO\"]"
   ]
  },
  {
   "cell_type": "code",
   "execution_count": 76,
   "metadata": {},
   "outputs": [
    {
     "name": "stdout",
     "output_type": "stream",
     "text": [
      "Tamaño del tablón filtrado:  (4974, 11)\n",
      "Tamaño del tablón nuevo:  (4974, 6)\n"
     ]
    }
   ],
   "source": [
    "df_solar_filt2 = df_solar_filt.drop(columns = columnas_drop)\n",
    "print(\"Tamaño del tablón filtrado: \", df_solar_filt.shape)\n",
    "print(\"Tamaño del tablón nuevo: \", df_solar_filt2.shape)"
   ]
  },
  {
   "cell_type": "code",
   "execution_count": 77,
   "metadata": {},
   "outputs": [
    {
     "data": {
      "text/plain": [
       "float64    5\n",
       "object     1\n",
       "Name: count, dtype: int64"
      ]
     },
     "execution_count": 77,
     "metadata": {},
     "output_type": "execute_result"
    }
   ],
   "source": [
    "df_solar_filt2.dtypes.value_counts()"
   ]
  },
  {
   "cell_type": "code",
   "execution_count": 78,
   "metadata": {},
   "outputs": [
    {
     "data": {
      "text/plain": [
       "Longitud\n",
       "-3.74573026512817      51\n",
       "-3.621281890570370     51\n",
       "-3.6662090478322400    51\n",
       "-3.6691167784691700    51\n",
       "-3.6709293330780200    51\n",
       "                       ..\n",
       "-3.6731747821526333     3\n",
       "-3.6630476297262975     2\n",
       "-3.597762173364828      2\n",
       "-3.614247419127         1\n",
       "0                       1\n",
       "Name: count, Length: 128, dtype: int64"
      ]
     },
     "execution_count": 78,
     "metadata": {},
     "output_type": "execute_result"
    }
   ],
   "source": [
    "df_solar_filt2[\"Longitud\"].value_counts()"
   ]
  },
  {
   "cell_type": "code",
   "execution_count": 93,
   "metadata": {},
   "outputs": [
    {
     "ename": "TypeError",
     "evalue": "Encoders require their input to be uniformly strings or numbers. Got ['float', 'int', 'str']",
     "output_type": "error",
     "traceback": [
      "\u001b[1;31m---------------------------------------------------------------------------\u001b[0m",
      "\u001b[1;31mTypeError\u001b[0m                                 Traceback (most recent call last)",
      "File \u001b[1;32m~\\AppData\\Local\\Packages\\PythonSoftwareFoundation.Python.3.10_qbz5n2kfra8p0\\LocalCache\\local-packages\\Python310\\site-packages\\sklearn\\utils\\_encode.py:173\u001b[0m, in \u001b[0;36m_unique_python\u001b[1;34m(values, return_inverse, return_counts)\u001b[0m\n\u001b[0;32m    171\u001b[0m uniques_set, missing_values \u001b[39m=\u001b[39m _extract_missing(uniques_set)\n\u001b[1;32m--> 173\u001b[0m uniques \u001b[39m=\u001b[39m \u001b[39msorted\u001b[39;49m(uniques_set)\n\u001b[0;32m    174\u001b[0m uniques\u001b[39m.\u001b[39mextend(missing_values\u001b[39m.\u001b[39mto_list())\n",
      "\u001b[1;31mTypeError\u001b[0m: '<' not supported between instances of 'str' and 'int'",
      "\nDuring handling of the above exception, another exception occurred:\n",
      "\u001b[1;31mTypeError\u001b[0m                                 Traceback (most recent call last)",
      "Cell \u001b[1;32mIn[93], line 3\u001b[0m\n\u001b[0;32m      1\u001b[0m \u001b[39mfrom\u001b[39;00m \u001b[39msklearn\u001b[39;00m\u001b[39m.\u001b[39;00m\u001b[39mpreprocessing\u001b[39;00m \u001b[39mimport\u001b[39;00m LabelEncoder\n\u001b[0;32m      2\u001b[0m etiquetado \u001b[39m=\u001b[39m LabelEncoder()\n\u001b[1;32m----> 3\u001b[0m etiquetado\u001b[39m.\u001b[39;49mfit(df_solar_filt2[\u001b[39m\"\u001b[39;49m\u001b[39mLongitud\u001b[39;49m\u001b[39m\"\u001b[39;49m])\n",
      "File \u001b[1;32m~\\AppData\\Local\\Packages\\PythonSoftwareFoundation.Python.3.10_qbz5n2kfra8p0\\LocalCache\\local-packages\\Python310\\site-packages\\sklearn\\preprocessing\\_label.py:100\u001b[0m, in \u001b[0;36mLabelEncoder.fit\u001b[1;34m(self, y)\u001b[0m\n\u001b[0;32m     87\u001b[0m \u001b[39m\u001b[39m\u001b[39m\"\"\"Fit label encoder.\u001b[39;00m\n\u001b[0;32m     88\u001b[0m \n\u001b[0;32m     89\u001b[0m \u001b[39mParameters\u001b[39;00m\n\u001b[1;32m   (...)\u001b[0m\n\u001b[0;32m     97\u001b[0m \u001b[39m    Fitted label encoder.\u001b[39;00m\n\u001b[0;32m     98\u001b[0m \u001b[39m\"\"\"\u001b[39;00m\n\u001b[0;32m     99\u001b[0m y \u001b[39m=\u001b[39m column_or_1d(y, warn\u001b[39m=\u001b[39m\u001b[39mTrue\u001b[39;00m)\n\u001b[1;32m--> 100\u001b[0m \u001b[39mself\u001b[39m\u001b[39m.\u001b[39mclasses_ \u001b[39m=\u001b[39m _unique(y)\n\u001b[0;32m    101\u001b[0m \u001b[39mreturn\u001b[39;00m \u001b[39mself\u001b[39m\n",
      "File \u001b[1;32m~\\AppData\\Local\\Packages\\PythonSoftwareFoundation.Python.3.10_qbz5n2kfra8p0\\LocalCache\\local-packages\\Python310\\site-packages\\sklearn\\utils\\_encode.py:41\u001b[0m, in \u001b[0;36m_unique\u001b[1;34m(values, return_inverse, return_counts)\u001b[0m\n\u001b[0;32m     10\u001b[0m \u001b[39m\u001b[39m\u001b[39m\"\"\"Helper function to find unique values with support for python objects.\u001b[39;00m\n\u001b[0;32m     11\u001b[0m \n\u001b[0;32m     12\u001b[0m \u001b[39mUses pure python method for object dtype, and numpy method for\u001b[39;00m\n\u001b[1;32m   (...)\u001b[0m\n\u001b[0;32m     38\u001b[0m \u001b[39m    array. Only provided if `return_counts` is True.\u001b[39;00m\n\u001b[0;32m     39\u001b[0m \u001b[39m\"\"\"\u001b[39;00m\n\u001b[0;32m     40\u001b[0m \u001b[39mif\u001b[39;00m values\u001b[39m.\u001b[39mdtype \u001b[39m==\u001b[39m \u001b[39mobject\u001b[39m:\n\u001b[1;32m---> 41\u001b[0m     \u001b[39mreturn\u001b[39;00m _unique_python(\n\u001b[0;32m     42\u001b[0m         values, return_inverse\u001b[39m=\u001b[39;49mreturn_inverse, return_counts\u001b[39m=\u001b[39;49mreturn_counts\n\u001b[0;32m     43\u001b[0m     )\n\u001b[0;32m     44\u001b[0m \u001b[39m# numerical\u001b[39;00m\n\u001b[0;32m     45\u001b[0m \u001b[39mreturn\u001b[39;00m _unique_np(\n\u001b[0;32m     46\u001b[0m     values, return_inverse\u001b[39m=\u001b[39mreturn_inverse, return_counts\u001b[39m=\u001b[39mreturn_counts\n\u001b[0;32m     47\u001b[0m )\n",
      "File \u001b[1;32m~\\AppData\\Local\\Packages\\PythonSoftwareFoundation.Python.3.10_qbz5n2kfra8p0\\LocalCache\\local-packages\\Python310\\site-packages\\sklearn\\utils\\_encode.py:178\u001b[0m, in \u001b[0;36m_unique_python\u001b[1;34m(values, return_inverse, return_counts)\u001b[0m\n\u001b[0;32m    176\u001b[0m \u001b[39mexcept\u001b[39;00m \u001b[39mTypeError\u001b[39;00m:\n\u001b[0;32m    177\u001b[0m     types \u001b[39m=\u001b[39m \u001b[39msorted\u001b[39m(t\u001b[39m.\u001b[39m\u001b[39m__qualname__\u001b[39m \u001b[39mfor\u001b[39;00m t \u001b[39min\u001b[39;00m \u001b[39mset\u001b[39m(\u001b[39mtype\u001b[39m(v) \u001b[39mfor\u001b[39;00m v \u001b[39min\u001b[39;00m values))\n\u001b[1;32m--> 178\u001b[0m     \u001b[39mraise\u001b[39;00m \u001b[39mTypeError\u001b[39;00m(\n\u001b[0;32m    179\u001b[0m         \u001b[39m\"\u001b[39m\u001b[39mEncoders require their input to be uniformly \u001b[39m\u001b[39m\"\u001b[39m\n\u001b[0;32m    180\u001b[0m         \u001b[39mf\u001b[39m\u001b[39m\"\u001b[39m\u001b[39mstrings or numbers. Got \u001b[39m\u001b[39m{\u001b[39;00mtypes\u001b[39m}\u001b[39;00m\u001b[39m\"\u001b[39m\n\u001b[0;32m    181\u001b[0m     )\n\u001b[0;32m    182\u001b[0m ret \u001b[39m=\u001b[39m (uniques,)\n\u001b[0;32m    184\u001b[0m \u001b[39mif\u001b[39;00m return_inverse:\n",
      "\u001b[1;31mTypeError\u001b[0m: Encoders require their input to be uniformly strings or numbers. Got ['float', 'int', 'str']"
     ]
    }
   ],
   "source": [
    "from sklearn.preprocessing import LabelEncoder\n",
    "etiquetado = LabelEncoder()\n",
    "etiquetado.fit(df_solar_filt2[\"Longitud\"])"
   ]
  },
  {
   "cell_type": "code",
   "execution_count": null,
   "metadata": {},
   "outputs": [
    {
     "data": {
      "text/plain": [
       "array(['-3-6142474191270000', '-3.572741163820910', '-3.5796914517468600',\n",
       "       '-3.5936877657335900', '-3.597144', '-3.597762173364828',\n",
       "       '-3.601441011212612', '-3.602926', '-3.603264732850390',\n",
       "       '-3.6059845330840700', '-3.6086161200017100',\n",
       "       '-3.6096102461466000', '-3.6110021948964400',\n",
       "       '-3.6154373664644300', '-3.6196258294576600', '-3.62038557307297',\n",
       "       '-3.6212400484216900', '-3.621281890570370', '-3.621454785869900',\n",
       "       '-3.621679', '-3.6227296605039500', '-3.622901144863190',\n",
       "       '-3.6239189412211400', '-3.6275877145025800', '-3.628588601009720',\n",
       "       '-3.630877', '-3.632432290214530', '-3.636977491626700',\n",
       "       '-3.6413497414718700', '-3.641900373589660', '-3.6467931482127414',\n",
       "       '-3.649947', '-3.6504253324201100', '-3.650568266584690',\n",
       "       '-3.6514634536929598', '-3.651841641389480', '-3.6531308970881300',\n",
       "       '-3.653214777359330', '-3.655261744717250', '-3.6569793922460585',\n",
       "       '-3.6571542769919400', '-3.6580402287911900',\n",
       "       '-3.6585711797466800', '-3.6620047814552548',\n",
       "       '-3.6630476297262975', '-3.6641000254946223', '-3.665083966588480',\n",
       "       '-3.665205626185560', '-3.6662090478322400', '-3.6677240367753100',\n",
       "       '-3.667774590446810', '-3.669067772820540', '-3.6691167784691700',\n",
       "       '-3.6691267410574400', '-3.669802', '-3.6709293330780200',\n",
       "       '-3.6731747821526333', '-3.6737662524006700', '-3.674350860475640',\n",
       "       '-3.676283', '-3.677163', '-3.6773064421969200',\n",
       "       '-3.67954186336266', '-3.6795930368034800', '-3.680551491708350',\n",
       "       '-3.685391155439890', '-3.6861797800993200', '-3.686595141820630',\n",
       "       '-3.690036112299879', '-3.691341060146100', '-3.691528804696940',\n",
       "       '-3.6925563084154103', '-3.693540659747280', '-3.6940501846610800',\n",
       "       '-3.694447', '-3.6953256978963800', '-3.6955325387824000',\n",
       "       '-3.696499', '-3.697052144961610', '-3.6976620067964900',\n",
       "       '-3.6994689006077400', '-3.700129656851360', '-3.700809560921590',\n",
       "       '-3.701141063083800', '-3.704068831577452', '-3.7048331023156282',\n",
       "       '-3.7065496222694200', '-3.708785', '-3.7097392943348200',\n",
       "       '-3.7098591212735800', '-3.710522', '-3.7107515747822300',\n",
       "       '-3.7108752639004567', '-3.71120030905872', '-3.711260959329783',\n",
       "       '-3.7113107961759493', '-3.7144222564719800',\n",
       "       '-3.7151818881165200', '-3.715308', '-3.716607833008470',\n",
       "       '-3.7173807221939100', '-3.7178413073202800', '-3.718270563679260',\n",
       "       '-3.7211192200565475', '-3.721771', '-3.72286', '-3.724127',\n",
       "       '-3.727740326743950', '-3.7295712734839443', '-3.733391',\n",
       "       '-3.7352725040539500', '-3.7353834506869200',\n",
       "       '-3.7369645992831300', '-3.7381715230490400', '-3.741639735552090',\n",
       "       '-3.741656241718050', '-3.74573026512817', '-3.7468729354018295',\n",
       "       '-3.7510337449848600', '-3.756554762411960', '-3.7653019593724200',\n",
       "       '-3.765466', '-3.7664885474841500', '-3.776049860378440',\n",
       "       '-3.778110067286680', '-37107292315735900'], dtype=object)"
      ]
     },
     "execution_count": 84,
     "metadata": {},
     "output_type": "execute_result"
    }
   ],
   "source": [
    "etiquetado.classes_"
   ]
  },
  {
   "cell_type": "code",
   "execution_count": null,
   "metadata": {},
   "outputs": [
    {
     "data": {
      "text/plain": [
       "0"
      ]
     },
     "execution_count": 93,
     "metadata": {},
     "output_type": "execute_result"
    }
   ],
   "source": [
    "#ver que valores hay nulos\n",
    "df_solar_filt2['Longitud'].isnull().sum()"
   ]
  },
  {
   "cell_type": "code",
   "execution_count": null,
   "metadata": {},
   "outputs": [
    {
     "data": {
      "text/plain": [
       "array([116,  54,  77, ...,  30,  44,   5])"
      ]
     },
     "execution_count": 85,
     "metadata": {},
     "output_type": "execute_result"
    }
   ],
   "source": [
    "etiquetado.transform(df_solar_filt2[\"Longitud\"])\n",
    "# obtenemos un array de numpy de tipo enteros"
   ]
  },
  {
   "cell_type": "code",
   "execution_count": null,
   "metadata": {},
   "outputs": [
    {
     "data": {
      "text/html": [
       "<div>\n",
       "<style scoped>\n",
       "    .dataframe tbody tr th:only-of-type {\n",
       "        vertical-align: middle;\n",
       "    }\n",
       "\n",
       "    .dataframe tbody tr th {\n",
       "        vertical-align: top;\n",
       "    }\n",
       "\n",
       "    .dataframe thead th {\n",
       "        text-align: right;\n",
       "    }\n",
       "</style>\n",
       "<table border=\"1\" class=\"dataframe\">\n",
       "  <thead>\n",
       "    <tr style=\"text-align: right;\">\n",
       "      <th></th>\n",
       "      <th></th>\n",
       "      <th>Coordenada-X</th>\n",
       "      <th>Coordenada-Y</th>\n",
       "      <th>Latitud</th>\n",
       "      <th>POTENCIA KWP</th>\n",
       "      <th>ENERGÍA PRODUCIDA KWh</th>\n",
       "    </tr>\n",
       "    <tr>\n",
       "      <th>Longitud</th>\n",
       "      <th>Longitud_etiquetado</th>\n",
       "      <th></th>\n",
       "      <th></th>\n",
       "      <th></th>\n",
       "      <th></th>\n",
       "      <th></th>\n",
       "    </tr>\n",
       "  </thead>\n",
       "  <tbody>\n",
       "    <tr>\n",
       "      <th>-3-6142474191270000</th>\n",
       "      <th>0</th>\n",
       "      <td>46</td>\n",
       "      <td>46</td>\n",
       "      <td>46</td>\n",
       "      <td>46</td>\n",
       "      <td>46</td>\n",
       "    </tr>\n",
       "    <tr>\n",
       "      <th>-3.572741163820910</th>\n",
       "      <th>1</th>\n",
       "      <td>51</td>\n",
       "      <td>51</td>\n",
       "      <td>51</td>\n",
       "      <td>51</td>\n",
       "      <td>51</td>\n",
       "    </tr>\n",
       "    <tr>\n",
       "      <th>-3.5796914517468600</th>\n",
       "      <th>2</th>\n",
       "      <td>49</td>\n",
       "      <td>49</td>\n",
       "      <td>49</td>\n",
       "      <td>49</td>\n",
       "      <td>49</td>\n",
       "    </tr>\n",
       "    <tr>\n",
       "      <th>-3.5936877657335900</th>\n",
       "      <th>3</th>\n",
       "      <td>51</td>\n",
       "      <td>51</td>\n",
       "      <td>51</td>\n",
       "      <td>51</td>\n",
       "      <td>51</td>\n",
       "    </tr>\n",
       "    <tr>\n",
       "      <th>-3.597144</th>\n",
       "      <th>4</th>\n",
       "      <td>39</td>\n",
       "      <td>39</td>\n",
       "      <td>39</td>\n",
       "      <td>39</td>\n",
       "      <td>39</td>\n",
       "    </tr>\n",
       "    <tr>\n",
       "      <th>...</th>\n",
       "      <th>...</th>\n",
       "      <td>...</td>\n",
       "      <td>...</td>\n",
       "      <td>...</td>\n",
       "      <td>...</td>\n",
       "      <td>...</td>\n",
       "    </tr>\n",
       "    <tr>\n",
       "      <th>-3.765466</th>\n",
       "      <th>121</th>\n",
       "      <td>51</td>\n",
       "      <td>51</td>\n",
       "      <td>51</td>\n",
       "      <td>51</td>\n",
       "      <td>51</td>\n",
       "    </tr>\n",
       "    <tr>\n",
       "      <th>-3.7664885474841500</th>\n",
       "      <th>122</th>\n",
       "      <td>45</td>\n",
       "      <td>45</td>\n",
       "      <td>45</td>\n",
       "      <td>45</td>\n",
       "      <td>45</td>\n",
       "    </tr>\n",
       "    <tr>\n",
       "      <th>-3.776049860378440</th>\n",
       "      <th>123</th>\n",
       "      <td>51</td>\n",
       "      <td>51</td>\n",
       "      <td>51</td>\n",
       "      <td>51</td>\n",
       "      <td>51</td>\n",
       "    </tr>\n",
       "    <tr>\n",
       "      <th>-3.778110067286680</th>\n",
       "      <th>124</th>\n",
       "      <td>51</td>\n",
       "      <td>51</td>\n",
       "      <td>51</td>\n",
       "      <td>51</td>\n",
       "      <td>51</td>\n",
       "    </tr>\n",
       "    <tr>\n",
       "      <th>-37107292315735900</th>\n",
       "      <th>125</th>\n",
       "      <td>28</td>\n",
       "      <td>28</td>\n",
       "      <td>28</td>\n",
       "      <td>28</td>\n",
       "      <td>28</td>\n",
       "    </tr>\n",
       "  </tbody>\n",
       "</table>\n",
       "<p>126 rows × 5 columns</p>\n",
       "</div>"
      ],
      "text/plain": [
       "                                         Coordenada-X  Coordenada-Y  Latitud   \n",
       "Longitud            Longitud_etiquetado                                        \n",
       "-3-6142474191270000 0                              46            46       46  \\\n",
       "-3.572741163820910  1                              51            51       51   \n",
       "-3.5796914517468600 2                              49            49       49   \n",
       "-3.5936877657335900 3                              51            51       51   \n",
       "-3.597144           4                              39            39       39   \n",
       "...                                               ...           ...      ...   \n",
       "-3.765466           121                            51            51       51   \n",
       "-3.7664885474841500 122                            45            45       45   \n",
       "-3.776049860378440  123                            51            51       51   \n",
       "-3.778110067286680  124                            51            51       51   \n",
       "-37107292315735900  125                            28            28       28   \n",
       "\n",
       "                                         POTENCIA KWP  ENERGÍA PRODUCIDA KWh  \n",
       "Longitud            Longitud_etiquetado                                       \n",
       "-3-6142474191270000 0                              46                     46  \n",
       "-3.572741163820910  1                              51                     51  \n",
       "-3.5796914517468600 2                              49                     49  \n",
       "-3.5936877657335900 3                              51                     51  \n",
       "-3.597144           4                              39                     39  \n",
       "...                                               ...                    ...  \n",
       "-3.765466           121                            51                     51  \n",
       "-3.7664885474841500 122                            45                     45  \n",
       "-3.776049860378440  123                            51                     51  \n",
       "-3.778110067286680  124                            51                     51  \n",
       "-37107292315735900  125                            28                     28  \n",
       "\n",
       "[126 rows x 5 columns]"
      ]
     },
     "execution_count": 95,
     "metadata": {},
     "output_type": "execute_result"
    }
   ],
   "source": [
    "#comprobar que estos valores tienen una relación con la columna anterior\n",
    "df_solar_filt2[\"Longitud_etiquetado\"] = etiquetado.transform(df_solar_filt2[\"Longitud\"])\n",
    "\n",
    "# mostrar la relación con los datos originales\n",
    "df_solar_filt2.groupby([\"Longitud\", \"Longitud_etiquetado\"]).count()"
   ]
  },
  {
   "cell_type": "code",
   "execution_count": null,
   "metadata": {},
   "outputs": [],
   "source": [
    "df_solar_filt3 = df_solar_filt2.drop(columns = [\"Longitud\"])"
   ]
  },
  {
   "attachments": {},
   "cell_type": "markdown",
   "metadata": {},
   "source": [
    "### Reducción de variables\n",
    "Importancia de variables"
   ]
  },
  {
   "cell_type": "code",
   "execution_count": null,
   "metadata": {},
   "outputs": [
    {
     "name": "stdout",
     "output_type": "stream",
     "text": [
      "ENERGÍA PRODUCIDA KWh\n",
      "['Coordenada-X', 'Coordenada-Y', 'Latitud', 'POTENCIA KWP']\n"
     ]
    }
   ],
   "source": [
    "# generar la lista de features y la variable target\n",
    "target = 'ENERGÍA PRODUCIDA KWh'\n",
    "features = [x for x in df_solar_filt3.columns if x != target]\n",
    "\n",
    "print(target)\n",
    "print(features)"
   ]
  },
  {
   "cell_type": "code",
   "execution_count": null,
   "metadata": {},
   "outputs": [
    {
     "data": {
      "text/plain": [
       "0        1004.400000\n",
       "1         703.080000\n",
       "2         502.200000\n",
       "3         251.100000\n",
       "4         502.200000\n",
       "            ...     \n",
       "4969    11249.600586\n",
       "4970     1330.272000\n",
       "4971      332.568000\n",
       "4972     1662.840000\n",
       "4973     1330.272000\n",
       "Name: ENERGÍA PRODUCIDA KWh, Length: 4974, dtype: float64"
      ]
     },
     "execution_count": 54,
     "metadata": {},
     "output_type": "execute_result"
    }
   ],
   "source": [
    "df_solar_filt3[target]"
   ]
  },
  {
   "cell_type": "code",
   "execution_count": 80,
   "metadata": {},
   "outputs": [
    {
     "data": {
      "text/html": [
       "<style>#sk-container-id-1 {color: black;background-color: white;}#sk-container-id-1 pre{padding: 0;}#sk-container-id-1 div.sk-toggleable {background-color: white;}#sk-container-id-1 label.sk-toggleable__label {cursor: pointer;display: block;width: 100%;margin-bottom: 0;padding: 0.3em;box-sizing: border-box;text-align: center;}#sk-container-id-1 label.sk-toggleable__label-arrow:before {content: \"▸\";float: left;margin-right: 0.25em;color: #696969;}#sk-container-id-1 label.sk-toggleable__label-arrow:hover:before {color: black;}#sk-container-id-1 div.sk-estimator:hover label.sk-toggleable__label-arrow:before {color: black;}#sk-container-id-1 div.sk-toggleable__content {max-height: 0;max-width: 0;overflow: hidden;text-align: left;background-color: #f0f8ff;}#sk-container-id-1 div.sk-toggleable__content pre {margin: 0.2em;color: black;border-radius: 0.25em;background-color: #f0f8ff;}#sk-container-id-1 input.sk-toggleable__control:checked~div.sk-toggleable__content {max-height: 200px;max-width: 100%;overflow: auto;}#sk-container-id-1 input.sk-toggleable__control:checked~label.sk-toggleable__label-arrow:before {content: \"▾\";}#sk-container-id-1 div.sk-estimator input.sk-toggleable__control:checked~label.sk-toggleable__label {background-color: #d4ebff;}#sk-container-id-1 div.sk-label input.sk-toggleable__control:checked~label.sk-toggleable__label {background-color: #d4ebff;}#sk-container-id-1 input.sk-hidden--visually {border: 0;clip: rect(1px 1px 1px 1px);clip: rect(1px, 1px, 1px, 1px);height: 1px;margin: -1px;overflow: hidden;padding: 0;position: absolute;width: 1px;}#sk-container-id-1 div.sk-estimator {font-family: monospace;background-color: #f0f8ff;border: 1px dotted black;border-radius: 0.25em;box-sizing: border-box;margin-bottom: 0.5em;}#sk-container-id-1 div.sk-estimator:hover {background-color: #d4ebff;}#sk-container-id-1 div.sk-parallel-item::after {content: \"\";width: 100%;border-bottom: 1px solid gray;flex-grow: 1;}#sk-container-id-1 div.sk-label:hover label.sk-toggleable__label {background-color: #d4ebff;}#sk-container-id-1 div.sk-serial::before {content: \"\";position: absolute;border-left: 1px solid gray;box-sizing: border-box;top: 0;bottom: 0;left: 50%;z-index: 0;}#sk-container-id-1 div.sk-serial {display: flex;flex-direction: column;align-items: center;background-color: white;padding-right: 0.2em;padding-left: 0.2em;position: relative;}#sk-container-id-1 div.sk-item {position: relative;z-index: 1;}#sk-container-id-1 div.sk-parallel {display: flex;align-items: stretch;justify-content: center;background-color: white;position: relative;}#sk-container-id-1 div.sk-item::before, #sk-container-id-1 div.sk-parallel-item::before {content: \"\";position: absolute;border-left: 1px solid gray;box-sizing: border-box;top: 0;bottom: 0;left: 50%;z-index: -1;}#sk-container-id-1 div.sk-parallel-item {display: flex;flex-direction: column;z-index: 1;position: relative;background-color: white;}#sk-container-id-1 div.sk-parallel-item:first-child::after {align-self: flex-end;width: 50%;}#sk-container-id-1 div.sk-parallel-item:last-child::after {align-self: flex-start;width: 50%;}#sk-container-id-1 div.sk-parallel-item:only-child::after {width: 0;}#sk-container-id-1 div.sk-dashed-wrapped {border: 1px dashed gray;margin: 0 0.4em 0.5em 0.4em;box-sizing: border-box;padding-bottom: 0.4em;background-color: white;}#sk-container-id-1 div.sk-label label {font-family: monospace;font-weight: bold;display: inline-block;line-height: 1.2em;}#sk-container-id-1 div.sk-label-container {text-align: center;}#sk-container-id-1 div.sk-container {/* jupyter's `normalize.less` sets `[hidden] { display: none; }` but bootstrap.min.css set `[hidden] { display: none !important; }` so we also need the `!important` here to be able to override the default hidden behavior on the sphinx rendered scikit-learn.org. See: https://github.com/scikit-learn/scikit-learn/issues/21755 */display: inline-block !important;position: relative;}#sk-container-id-1 div.sk-text-repr-fallback {display: none;}</style><div id=\"sk-container-id-1\" class=\"sk-top-container\"><div class=\"sk-text-repr-fallback\"><pre>DecisionTreeRegressor(max_depth=14, random_state=42)</pre><b>In a Jupyter environment, please rerun this cell to show the HTML representation or trust the notebook. <br />On GitHub, the HTML representation is unable to render, please try loading this page with nbviewer.org.</b></div><div class=\"sk-container\" hidden><div class=\"sk-item\"><div class=\"sk-estimator sk-toggleable\"><input class=\"sk-toggleable__control sk-hidden--visually\" id=\"sk-estimator-id-1\" type=\"checkbox\" checked><label for=\"sk-estimator-id-1\" class=\"sk-toggleable__label sk-toggleable__label-arrow\">DecisionTreeRegressor</label><div class=\"sk-toggleable__content\"><pre>DecisionTreeRegressor(max_depth=14, random_state=42)</pre></div></div></div></div></div>"
      ],
      "text/plain": [
       "DecisionTreeRegressor(max_depth=14, random_state=42)"
      ]
     },
     "execution_count": 80,
     "metadata": {},
     "output_type": "execute_result"
    }
   ],
   "source": [
    "# Importar el algoritmo de árboles de decisión\n",
    "from sklearn.tree import DecisionTreeRegressor\n",
    "\n",
    "# Asignar el algortimo e indicar la profundidad máxima del árbol (con un número rotandamente grande para sobreajustar)\n",
    "arbol_importancia = DecisionTreeRegressor(max_depth=len(features)+10, random_state=42)\n",
    "\n",
    "# Entrenar un árbol con todo el conjunto de datos\n",
    "arbol_importancia.fit(X=df_solar_filt3[features], y=df_solar_filt3[target])"
   ]
  },
  {
   "cell_type": "code",
   "execution_count": 81,
   "metadata": {},
   "outputs": [
    {
     "name": "stdout",
     "output_type": "stream",
     "text": [
      "Mean Absolute Error: 685.7148392571211\n",
      "Mean Absolute Percentage Error: 6.106283488183685e+17\n",
      "Mean Squared Error: 1324732.3545046279\n",
      "Root Mean Squared Error: 1150.9701796765319\n",
      "R^2 coefficient of determination: 0.7733395560933768\n"
     ]
    }
   ],
   "source": [
    "# Comprobamos que se obtiene un R^2 muy alto. Lo desesable es que sea 1.\n",
    "y_pred_arbol = arbol_importancia.predict(X=df_solar_filt3[features])\n",
    "\n",
    "from sklearn.metrics import mean_absolute_error\n",
    "from sklearn.metrics import mean_absolute_percentage_error\n",
    "from sklearn.metrics import mean_squared_error\n",
    "from sklearn.metrics import r2_score\n",
    "\n",
    "# Métricas para evaluar la calidad del modelo\n",
    "print('Mean Absolute Error:', mean_absolute_error(df_solar_filt3[target], y_pred_arbol))\n",
    "print('Mean Absolute Percentage Error:', mean_absolute_percentage_error(df_solar_filt3[target], y_pred_arbol)*100)\n",
    "print('Mean Squared Error:', mean_squared_error(df_solar_filt3[target], y_pred_arbol))\n",
    "print('Root Mean Squared Error:', np.sqrt(mean_squared_error(df_solar_filt3[target], y_pred_arbol)))\n",
    "print('R^2 coefficient of determination:', r2_score(df_solar_filt3[target], y_pred_arbol))"
   ]
  },
  {
   "cell_type": "code",
   "execution_count": 82,
   "metadata": {},
   "outputs": [
    {
     "data": {
      "text/plain": [
       "array([0.0302073 , 0.00549908, 0.00970697, 0.95458665])"
      ]
     },
     "execution_count": 82,
     "metadata": {},
     "output_type": "execute_result"
    }
   ],
   "source": [
    "# Importancias de cada variable en el árbol ajustado (Gini importance)\n",
    "arbol_importancia.feature_importances_"
   ]
  },
  {
   "cell_type": "code",
   "execution_count": 83,
   "metadata": {},
   "outputs": [
    {
     "data": {
      "text/html": [
       "<div>\n",
       "<style scoped>\n",
       "    .dataframe tbody tr th:only-of-type {\n",
       "        vertical-align: middle;\n",
       "    }\n",
       "\n",
       "    .dataframe tbody tr th {\n",
       "        vertical-align: top;\n",
       "    }\n",
       "\n",
       "    .dataframe thead th {\n",
       "        text-align: right;\n",
       "    }\n",
       "</style>\n",
       "<table border=\"1\" class=\"dataframe\">\n",
       "  <thead>\n",
       "    <tr style=\"text-align: right;\">\n",
       "      <th></th>\n",
       "      <th>Importancia</th>\n",
       "    </tr>\n",
       "  </thead>\n",
       "  <tbody>\n",
       "    <tr>\n",
       "      <th>POTENCIA KWP</th>\n",
       "      <td>0.954587</td>\n",
       "    </tr>\n",
       "    <tr>\n",
       "      <th>Coordenada-X</th>\n",
       "      <td>0.030207</td>\n",
       "    </tr>\n",
       "    <tr>\n",
       "      <th>Latitud</th>\n",
       "      <td>0.009707</td>\n",
       "    </tr>\n",
       "    <tr>\n",
       "      <th>Coordenada-Y</th>\n",
       "      <td>0.005499</td>\n",
       "    </tr>\n",
       "  </tbody>\n",
       "</table>\n",
       "</div>"
      ],
      "text/plain": [
       "              Importancia\n",
       "POTENCIA KWP     0.954587\n",
       "Coordenada-X     0.030207\n",
       "Latitud          0.009707\n",
       "Coordenada-Y     0.005499"
      ]
     },
     "execution_count": 83,
     "metadata": {},
     "output_type": "execute_result"
    }
   ],
   "source": [
    "# Creamos un DataFrame con los datos de importancia\n",
    "importancia = pd.DataFrame(arbol_importancia.feature_importances_, index=features, columns=[\"Importancia\"])\n",
    "\n",
    "# Ordenamos los datos\n",
    "importancia.sort_values(by=importancia.columns[0], ascending=False, inplace=True)\n",
    "importancia"
   ]
  },
  {
   "cell_type": "code",
   "execution_count": 84,
   "metadata": {},
   "outputs": [
    {
     "data": {
      "text/html": [
       "<div>\n",
       "<style scoped>\n",
       "    .dataframe tbody tr th:only-of-type {\n",
       "        vertical-align: middle;\n",
       "    }\n",
       "\n",
       "    .dataframe tbody tr th {\n",
       "        vertical-align: top;\n",
       "    }\n",
       "\n",
       "    .dataframe thead th {\n",
       "        text-align: right;\n",
       "    }\n",
       "</style>\n",
       "<table border=\"1\" class=\"dataframe\">\n",
       "  <thead>\n",
       "    <tr style=\"text-align: right;\">\n",
       "      <th></th>\n",
       "      <th>Importancia</th>\n",
       "      <th>imp_acum</th>\n",
       "    </tr>\n",
       "  </thead>\n",
       "  <tbody>\n",
       "    <tr>\n",
       "      <th>POTENCIA KWP</th>\n",
       "      <td>0.954587</td>\n",
       "      <td>0.954587</td>\n",
       "    </tr>\n",
       "    <tr>\n",
       "      <th>Coordenada-X</th>\n",
       "      <td>0.030207</td>\n",
       "      <td>0.984794</td>\n",
       "    </tr>\n",
       "    <tr>\n",
       "      <th>Latitud</th>\n",
       "      <td>0.009707</td>\n",
       "      <td>0.994501</td>\n",
       "    </tr>\n",
       "    <tr>\n",
       "      <th>Coordenada-Y</th>\n",
       "      <td>0.005499</td>\n",
       "      <td>1.000000</td>\n",
       "    </tr>\n",
       "  </tbody>\n",
       "</table>\n",
       "</div>"
      ],
      "text/plain": [
       "              Importancia  imp_acum\n",
       "POTENCIA KWP     0.954587  0.954587\n",
       "Coordenada-X     0.030207  0.984794\n",
       "Latitud          0.009707  0.994501\n",
       "Coordenada-Y     0.005499  1.000000"
      ]
     },
     "execution_count": 84,
     "metadata": {},
     "output_type": "execute_result"
    }
   ],
   "source": [
    "importancia[\"imp_acum\"] = importancia[\"Importancia\"].cumsum()\n",
    "importancia"
   ]
  },
  {
   "cell_type": "code",
   "execution_count": 85,
   "metadata": {},
   "outputs": [
    {
     "data": {
      "text/html": [
       "<div>\n",
       "<style scoped>\n",
       "    .dataframe tbody tr th:only-of-type {\n",
       "        vertical-align: middle;\n",
       "    }\n",
       "\n",
       "    .dataframe tbody tr th {\n",
       "        vertical-align: top;\n",
       "    }\n",
       "\n",
       "    .dataframe thead th {\n",
       "        text-align: right;\n",
       "    }\n",
       "</style>\n",
       "<table border=\"1\" class=\"dataframe\">\n",
       "  <thead>\n",
       "    <tr style=\"text-align: right;\">\n",
       "      <th></th>\n",
       "      <th>Importancia</th>\n",
       "      <th>imp_acum</th>\n",
       "    </tr>\n",
       "  </thead>\n",
       "  <tbody>\n",
       "  </tbody>\n",
       "</table>\n",
       "</div>"
      ],
      "text/plain": [
       "Empty DataFrame\n",
       "Columns: [Importancia, imp_acum]\n",
       "Index: []"
      ]
     },
     "execution_count": 85,
     "metadata": {},
     "output_type": "execute_result"
    }
   ],
   "source": [
    "# Conjunto de variables más importantes\n",
    "importancia.loc[importancia['imp_acum']<=0.90]"
   ]
  },
  {
   "cell_type": "code",
   "execution_count": 87,
   "metadata": {},
   "outputs": [
    {
     "name": "stdout",
     "output_type": "stream",
     "text": [
      "['POTENCIA KWP', 'Coordenada-X', 'Latitud', 'Coordenada-Y']\n"
     ]
    }
   ],
   "source": [
    "variables = importancia.loc[importancia['imp_acum']>0.90].index.to_list()\n",
    "print(variables)"
   ]
  },
  {
   "attachments": {},
   "cell_type": "markdown",
   "metadata": {},
   "source": [
    "Todas ls variables tienen importancia, no eliminamos ninguna."
   ]
  },
  {
   "attachments": {},
   "cell_type": "markdown",
   "metadata": {},
   "source": [
    "TAblón final con las variables con importancia."
   ]
  },
  {
   "cell_type": "code",
   "execution_count": 92,
   "metadata": {},
   "outputs": [
    {
     "data": {
      "text/html": [
       "<div>\n",
       "<style scoped>\n",
       "    .dataframe tbody tr th:only-of-type {\n",
       "        vertical-align: middle;\n",
       "    }\n",
       "\n",
       "    .dataframe tbody tr th {\n",
       "        vertical-align: top;\n",
       "    }\n",
       "\n",
       "    .dataframe thead th {\n",
       "        text-align: right;\n",
       "    }\n",
       "</style>\n",
       "<table border=\"1\" class=\"dataframe\">\n",
       "  <thead>\n",
       "    <tr style=\"text-align: right;\">\n",
       "      <th></th>\n",
       "      <th>Coordenada-X</th>\n",
       "      <th>Coordenada-Y</th>\n",
       "      <th>Latitud</th>\n",
       "      <th>POTENCIA KWP</th>\n",
       "      <th>ENERGÍA PRODUCIDA KWh</th>\n",
       "    </tr>\n",
       "  </thead>\n",
       "  <tbody>\n",
       "    <tr>\n",
       "      <th>0</th>\n",
       "      <td>436689.0</td>\n",
       "      <td>4468938.0</td>\n",
       "      <td>40.368616</td>\n",
       "      <td>10.0</td>\n",
       "      <td>1004.400000</td>\n",
       "    </tr>\n",
       "    <tr>\n",
       "      <th>1</th>\n",
       "      <td>443153.0</td>\n",
       "      <td>4471330.0</td>\n",
       "      <td>40.390628</td>\n",
       "      <td>7.0</td>\n",
       "      <td>703.080000</td>\n",
       "    </tr>\n",
       "    <tr>\n",
       "      <th>2</th>\n",
       "      <td>440849.0</td>\n",
       "      <td>4466524.0</td>\n",
       "      <td>40.347177</td>\n",
       "      <td>5.0</td>\n",
       "      <td>502.200000</td>\n",
       "    </tr>\n",
       "    <tr>\n",
       "      <th>3</th>\n",
       "      <td>439102.0</td>\n",
       "      <td>4478967.0</td>\n",
       "      <td>40.459141</td>\n",
       "      <td>2.5</td>\n",
       "      <td>251.100000</td>\n",
       "    </tr>\n",
       "    <tr>\n",
       "      <th>4</th>\n",
       "      <td>441779.0</td>\n",
       "      <td>4473428.0</td>\n",
       "      <td>40.409435</td>\n",
       "      <td>5.0</td>\n",
       "      <td>502.200000</td>\n",
       "    </tr>\n",
       "    <tr>\n",
       "      <th>...</th>\n",
       "      <td>...</td>\n",
       "      <td>...</td>\n",
       "      <td>...</td>\n",
       "      <td>...</td>\n",
       "      <td>...</td>\n",
       "    </tr>\n",
       "    <tr>\n",
       "      <th>4969</th>\n",
       "      <td>444781.7</td>\n",
       "      <td>4481144.5</td>\n",
       "      <td>40.479153</td>\n",
       "      <td>99.4</td>\n",
       "      <td>11249.600586</td>\n",
       "    </tr>\n",
       "    <tr>\n",
       "      <th>4970</th>\n",
       "      <td>439688.2</td>\n",
       "      <td>4474009.8</td>\n",
       "      <td>40.414526</td>\n",
       "      <td>8.0</td>\n",
       "      <td>1330.272000</td>\n",
       "    </tr>\n",
       "    <tr>\n",
       "      <th>4971</th>\n",
       "      <td>445135.7</td>\n",
       "      <td>4475423.6</td>\n",
       "      <td>40.427640</td>\n",
       "      <td>2.0</td>\n",
       "      <td>332.568000</td>\n",
       "    </tr>\n",
       "    <tr>\n",
       "      <th>4972</th>\n",
       "      <td>443704.6</td>\n",
       "      <td>4471139.1</td>\n",
       "      <td>40.388947</td>\n",
       "      <td>10.0</td>\n",
       "      <td>1662.840000</td>\n",
       "    </tr>\n",
       "    <tr>\n",
       "      <th>4973</th>\n",
       "      <td>449246.7</td>\n",
       "      <td>4468156.3</td>\n",
       "      <td>40.362464</td>\n",
       "      <td>8.0</td>\n",
       "      <td>1330.272000</td>\n",
       "    </tr>\n",
       "  </tbody>\n",
       "</table>\n",
       "<p>4974 rows × 5 columns</p>\n",
       "</div>"
      ],
      "text/plain": [
       "      Coordenada-X  Coordenada-Y    Latitud  POTENCIA KWP   \n",
       "0         436689.0     4468938.0  40.368616          10.0  \\\n",
       "1         443153.0     4471330.0  40.390628           7.0   \n",
       "2         440849.0     4466524.0  40.347177           5.0   \n",
       "3         439102.0     4478967.0  40.459141           2.5   \n",
       "4         441779.0     4473428.0  40.409435           5.0   \n",
       "...            ...           ...        ...           ...   \n",
       "4969      444781.7     4481144.5  40.479153          99.4   \n",
       "4970      439688.2     4474009.8  40.414526           8.0   \n",
       "4971      445135.7     4475423.6  40.427640           2.0   \n",
       "4972      443704.6     4471139.1  40.388947          10.0   \n",
       "4973      449246.7     4468156.3  40.362464           8.0   \n",
       "\n",
       "      ENERGÍA PRODUCIDA KWh  \n",
       "0               1004.400000  \n",
       "1                703.080000  \n",
       "2                502.200000  \n",
       "3                251.100000  \n",
       "4                502.200000  \n",
       "...                     ...  \n",
       "4969           11249.600586  \n",
       "4970            1330.272000  \n",
       "4971             332.568000  \n",
       "4972            1662.840000  \n",
       "4973            1330.272000  \n",
       "\n",
       "[4974 rows x 5 columns]"
      ]
     },
     "execution_count": 92,
     "metadata": {},
     "output_type": "execute_result"
    }
   ],
   "source": [
    "df_solar_filt3"
   ]
  }
 ],
 "metadata": {
  "kernelspec": {
   "display_name": "Python 3.10.11 64-bit (microsoft store)",
   "language": "python",
   "name": "python3"
  },
  "language_info": {
   "codemirror_mode": {
    "name": "ipython",
    "version": 3
   },
   "file_extension": ".py",
   "mimetype": "text/x-python",
   "name": "python",
   "nbconvert_exporter": "python",
   "pygments_lexer": "ipython3",
   "version": "3.10.11"
  },
  "orig_nbformat": 4,
  "vscode": {
   "interpreter": {
    "hash": "ad3b0cd1acfef684cc2fde4e9122a3101adc2b8d9568ead10c63363fe6c1f032"
   }
  }
 },
 "nbformat": 4,
 "nbformat_minor": 2
}
